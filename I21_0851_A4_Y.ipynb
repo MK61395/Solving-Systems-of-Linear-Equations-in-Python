{
  "cells": [
    {
      "cell_type": "markdown",
      "id": "09ae32f8-0d8a-4e52-aa2a-2cfbb552f2ca",
      "metadata": {
        "id": "09ae32f8-0d8a-4e52-aa2a-2cfbb552f2ca"
      },
      "source": [
        "# System of Linear Equations"
      ]
    },
    {
      "cell_type": "markdown",
      "id": "221b63a2-a8d8-465c-b6fc-559b2042dd7e",
      "metadata": {
        "id": "221b63a2-a8d8-465c-b6fc-559b2042dd7e"
      },
      "source": [
        "You are given 4 systems of linear equations. You need to solve each of these systems.\n",
        "\n",
        "Analyze each system to decide the appropriate factorization scheme. Base your answers on some properties of matrix that you figure out using the python code (not just a guess or a feeling). During this step you should also analyze if you need pioviting.\n",
        "\n",
        "Use appropriate factoriation scheme to factorize your matrices.\n",
        "\n",
        "Use factors to solve each system of equations.\n",
        "\n",
        "Compare your solution for correctness with the one provide by solve() method in numpy/scipy."
      ]
    },
    {
      "cell_type": "markdown",
      "id": "74fb70d2-80a1-466b-9627-5b3ed82299ce",
      "metadata": {
        "id": "74fb70d2-80a1-466b-9627-5b3ed82299ce"
      },
      "source": [
        "## System 1"
      ]
    },
    {
      "cell_type": "code",
      "execution_count": 3,
      "id": "3790f2e0-dc30-4004-b8c1-9a84283ff1b7",
      "metadata": {
        "colab": {
          "base_uri": "https://localhost:8080/",
          "height": 106
        },
        "id": "3790f2e0-dc30-4004-b8c1-9a84283ff1b7",
        "outputId": "ba2dfe13-8cde-4452-b479-710d3d8f1dea"
      },
      "outputs": [
        {
          "output_type": "error",
          "ename": "SyntaxError",
          "evalue": "invalid syntax. Perhaps you forgot a comma? (<ipython-input-3-3af1ae8e42f7>, line 2)",
          "traceback": [
            "\u001b[0;36m  File \u001b[0;32m\"<ipython-input-3-3af1ae8e42f7>\"\u001b[0;36m, line \u001b[0;32m2\u001b[0m\n\u001b[0;31m    [-0.48716942  6.35914034 -0.23623091 -0.60038574  0.9641109 ]\u001b[0m\n\u001b[0m     ^\u001b[0m\n\u001b[0;31mSyntaxError\u001b[0m\u001b[0;31m:\u001b[0m invalid syntax. Perhaps you forgot a comma?\n"
          ]
        }
      ],
      "source": [
        "a = [[ 4.83563855 -0.48716942 -1.28874987 -0.17023577 -1.67652323]\n",
        "     [-0.48716942  6.35914034 -0.23623091 -0.60038574  0.9641109 ]\n",
        "     [-1.28874987 -0.23623091  9.38492024  1.51435365 -0.34446032]\n",
        "     [-0.17023577 -0.60038574  1.51435365  1.33489675 -0.05603862]\n",
        "     [-1.67652323  0.9641109  -0.34446032 -0.05603862  5.58540411]]"
      ]
    },
    {
      "cell_type": "code",
      "execution_count": null,
      "id": "182b7466-727b-491f-b714-c9f8d9786f64",
      "metadata": {
        "id": "182b7466-727b-491f-b714-c9f8d9786f64"
      },
      "outputs": [],
      "source": [
        "b = [1, 2, 1, 2, 1]"
      ]
    },
    {
      "cell_type": "code",
      "source": [
        "import numpy as np\n",
        "from scipy.linalg import solve\n",
        "\n",
        "a = np.array([[ 4.83563855, -0.48716942, -1.28874987, -0.17023577, -1.67652323],\n",
        "              [-0.48716942,  6.35914034, -0.23623091, -0.60038574,  0.9641109 ],\n",
        "              [-1.28874987, -0.23623091,  9.38492024,  1.51435365, -0.34446032],\n",
        "              [-0.17023577, -0.60038574,  1.51435365,  1.33489675, -0.05603862],\n",
        "              [-1.67652323,  0.9641109 , -0.34446032, -0.05603862,  5.58540411]])\n",
        "\n",
        "b = np.array([1, 2, 1, 2, 1])\n",
        "\n",
        "is_symmetric = np.allclose(a, a.T)\n",
        "print(\"Is 'a' symmetric:\", is_symmetric)\n",
        "\n",
        "eigenvalues = np.linalg.eigvals(a)\n",
        "is_positive_definite = np.all(eigenvalues > 0)\n",
        "print(\"Is 'a' positive definite:\", is_positive_definite)\n",
        "\n",
        "sparsity = 1.0 - (np.count_nonzero(a) / a.size)\n",
        "print(\"Sparsity of 'a':\", sparsity)\n",
        "\n",
        "L = np.linalg.cholesky(a)\n",
        "x_cholesky = np.linalg.solve(L.T, np.linalg.solve(L, b))\n",
        "print(\"Solution using Cholesky decomposition:\", x_cholesky)\n",
        "\n",
        "x_numpy_solve = solve(a, b)\n",
        "print(\"Solution using numpy/scipy solve():\", x_numpy_solve)\n",
        "\n",
        "is_correct = np.allclose(x_cholesky, x_numpy_solve)\n",
        "print(\"Are the solutions correct:\", is_correct)\n"
      ],
      "metadata": {
        "colab": {
          "base_uri": "https://localhost:8080/"
        },
        "id": "r6yYBIsTHOgN",
        "outputId": "fa816aa6-4e34-4b4d-8065-c0bc7d147acc"
      },
      "id": "r6yYBIsTHOgN",
      "execution_count": 4,
      "outputs": [
        {
          "output_type": "stream",
          "name": "stdout",
          "text": [
            "Is 'a' symmetric: True\n",
            "Is 'a' positive definite: True\n",
            "Sparsity of 'a': 0.0\n",
            "Solution using Cholesky decomposition: [ 0.36230803  0.48638819 -0.13407343  1.92432408  0.21487061]\n",
            "Solution using numpy/scipy solve(): [ 0.36230803  0.48638819 -0.13407343  1.92432408  0.21487061]\n",
            "Are the solutions correct: True\n"
          ]
        }
      ]
    },
    {
      "cell_type": "markdown",
      "id": "c007eb07-0e1e-4aaf-86d3-c4ba078fac95",
      "metadata": {
        "id": "c007eb07-0e1e-4aaf-86d3-c4ba078fac95"
      },
      "source": [
        "## System 2"
      ]
    },
    {
      "cell_type": "code",
      "execution_count": null,
      "id": "a5e25b20-fb1b-4bd5-8699-fe02b42435df",
      "metadata": {
        "id": "a5e25b20-fb1b-4bd5-8699-fe02b42435df"
      },
      "outputs": [],
      "source": [
        "a = [[147.88014673  61.58720137  49.77390141  86.19185778 -11.02020431]\n",
        "     [ 61.58720137  79.21188958  57.64600897  92.97129568   8.64205759]\n",
        "     [ 49.77390141  57.64600897 145.47555854  -0.27750402 -35.6828936 ]\n",
        "     [ 86.19185778  92.97129568  -0.27750402 162.53268891  30.11833521]\n",
        "     [-11.02020431   8.64205759 -35.6828936   30.11833521  39.31876182]]"
      ]
    },
    {
      "cell_type": "code",
      "execution_count": null,
      "id": "e13ab1ce-d131-4b9e-9042-074f914dcb80",
      "metadata": {
        "id": "e13ab1ce-d131-4b9e-9042-074f914dcb80"
      },
      "outputs": [],
      "source": [
        "b = [1, 2, 1, 2, 1]"
      ]
    },
    {
      "cell_type": "code",
      "source": [
        "# Define the coefficient matrix 'a' and the right-hand side vector 'b'\n",
        "a = np.array([[147.88014673,  61.58720137,  49.77390141,  86.19185778, -11.02020431],\n",
        "              [ 61.58720137,  79.21188958,  57.64600897,  92.97129568,   8.64205759],\n",
        "              [ 49.77390141,  57.64600897, 145.47555854,  -0.27750402, -35.6828936 ],\n",
        "              [ 86.19185778,  92.97129568,  -0.27750402, 162.53268891,  30.11833521],\n",
        "              [-11.02020431,   8.64205759, -35.6828936 ,  30.11833521,  39.31876182]])\n",
        "\n",
        "b = np.array([1, 2, 1, 2, 1])\n",
        "\n",
        "# Analyze matrix 'a'\n",
        "is_symmetric = np.allclose(a, a.T)\n",
        "eigenvalues = np.linalg.eigvals(a)\n",
        "is_positive_definite = np.all(eigenvalues > 0)\n",
        "sparsity = 1.0 - (np.count_nonzero(a) / a.size)\n",
        "\n",
        "print(\"Is 'a' symmetric:\", is_symmetric)\n",
        "print(\"Is 'a' positive definite:\", is_positive_definite)\n",
        "print(\"Sparsity of 'a':\", sparsity)\n",
        "\n",
        "# Perform Cholesky decomposition and solve the system\n",
        "L = np.linalg.cholesky(a)\n",
        "x_cholesky = np.linalg.solve(L.T, np.linalg.solve(L, b))\n",
        "print(\"Solution using Cholesky decomposition:\", x_cholesky)\n",
        "\n",
        "# Solve the system using numpy/scipy solve()\n",
        "x_numpy_solve = solve(a, b)\n",
        "print(\"Solution using numpy/scipy solve():\", x_numpy_solve)\n",
        "\n",
        "# Check for correctness\n",
        "is_correct = np.allclose(x_cholesky, x_numpy_solve)\n",
        "print(\"Are the solutions correct:\", is_correct)"
      ],
      "metadata": {
        "colab": {
          "base_uri": "https://localhost:8080/"
        },
        "id": "zdRkMghHIhLN",
        "outputId": "fc5c15ae-2307-4e91-8e53-f1009ca8bdfb"
      },
      "id": "zdRkMghHIhLN",
      "execution_count": 5,
      "outputs": [
        {
          "output_type": "stream",
          "name": "stdout",
          "text": [
            "Is 'a' symmetric: True\n",
            "Is 'a' positive definite: True\n",
            "Sparsity of 'a': 0.0\n",
            "Solution using Cholesky decomposition: [ 0.01093982  0.1696775  -0.06338488 -0.09133855  0.00364725]\n",
            "Solution using numpy/scipy solve(): [ 0.01093982  0.1696775  -0.06338488 -0.09133855  0.00364725]\n",
            "Are the solutions correct: True\n"
          ]
        }
      ]
    },
    {
      "cell_type": "markdown",
      "id": "8341e464-b297-4024-91a2-7b688e949ba0",
      "metadata": {
        "id": "8341e464-b297-4024-91a2-7b688e949ba0"
      },
      "source": [
        "## System 3"
      ]
    },
    {
      "cell_type": "code",
      "execution_count": null,
      "id": "baee5207-066e-46af-90bc-ad2bf63ef917",
      "metadata": {
        "id": "baee5207-066e-46af-90bc-ad2bf63ef917"
      },
      "outputs": [],
      "source": [
        "a = [[1.64681904 0.60467877 0.30444051 0.73676928 0.69834607]\n",
        "     [0.60467877 1.13522644 0.75574608 0.12606269 0.85776802]\n",
        "     [0.30444051 0.75574608 1.4921206  0.8153735  0.38990932]\n",
        "     [0.73676928 0.12606269 0.8153735  1.2139189  0.37597481]\n",
        "     [0.69834607 0.85776802 0.38990932 0.37597481 1.06609491]]"
      ]
    },
    {
      "cell_type": "code",
      "execution_count": null,
      "id": "29cab8f9-3d2d-4e25-becc-3c958cfcb1f2",
      "metadata": {
        "id": "29cab8f9-3d2d-4e25-becc-3c958cfcb1f2"
      },
      "outputs": [],
      "source": [
        "b = [1, 2, 1, 2, 1]"
      ]
    },
    {
      "cell_type": "code",
      "source": [
        "a = np.array([[1.64681904, 0.60467877, 0.30444051, 0.73676928, 0.69834607],\n",
        "              [0.60467877, 1.13522644, 0.75574608, 0.12606269, 0.85776802],\n",
        "              [0.30444051, 0.75574608, 1.4921206 , 0.8153735 , 0.38990932],\n",
        "              [0.73676928, 0.12606269, 0.8153735 , 1.2139189 , 0.37597481],\n",
        "              [0.69834607, 0.85776802, 0.38990932, 0.37597481, 1.06609491]])\n",
        "\n",
        "b = np.array([1, 2, 1, 2, 1])\n",
        "\n",
        "# Analyze matrix 'a'\n",
        "is_symmetric = np.allclose(a, a.T)\n",
        "eigenvalues = np.linalg.eigvals(a)\n",
        "is_positive_definite = np.all(eigenvalues > 0)\n",
        "sparsity = 1.0 - (np.count_nonzero(a) / a.size)\n",
        "\n",
        "print(\"Is 'a' symmetric:\", is_symmetric)\n",
        "print(\"Is 'a' positive definite:\", is_positive_definite)\n",
        "print(\"Sparsity of 'a':\", sparsity)\n",
        "\n",
        "L = np.linalg.cholesky(a)\n",
        "x_cholesky = np.linalg.solve(L.T, np.linalg.solve(L, b))\n",
        "print(\"Solution using Cholesky decomposition:\", x_cholesky)\n",
        "\n",
        "# Solve the system using numpy/scipy solve()\n",
        "x_numpy_solve = solve(a, b)\n",
        "print(\"Solution using numpy/scipy solve():\", x_numpy_solve)\n",
        "\n",
        "# Check for correctness\n",
        "is_correct = np.allclose(x_cholesky, x_numpy_solve)\n",
        "print(\"Are the solutions correct:\", is_correct)"
      ],
      "metadata": {
        "colab": {
          "base_uri": "https://localhost:8080/"
        },
        "id": "zgvQ7KT5I8n4",
        "outputId": "bf6e1021-28c6-4d81-eb72-51c5b2171d68"
      },
      "id": "zgvQ7KT5I8n4",
      "execution_count": 6,
      "outputs": [
        {
          "output_type": "stream",
          "name": "stdout",
          "text": [
            "Is 'a' symmetric: True\n",
            "Is 'a' positive definite: True\n",
            "Sparsity of 'a': 0.0\n",
            "Solution using Cholesky decomposition: [-233635.21389462  753731.90657761 -515831.71578942  552332.88631753\n",
            " -459530.89686084]\n",
            "Solution using numpy/scipy solve(): [-233635.21390632  753731.90661535 -515831.71581525  552332.88634518\n",
            " -459530.89688385]\n",
            "Are the solutions correct: True\n"
          ]
        }
      ]
    },
    {
      "cell_type": "markdown",
      "id": "e22d6466-05d0-456d-b4cf-39ec2480387b",
      "metadata": {
        "id": "e22d6466-05d0-456d-b4cf-39ec2480387b"
      },
      "source": [
        "## System 4"
      ]
    },
    {
      "cell_type": "code",
      "execution_count": null,
      "id": "9e23c2ed-caa1-4af3-b3df-2fd84b79a5b8",
      "metadata": {
        "id": "9e23c2ed-caa1-4af3-b3df-2fd84b79a5b8"
      },
      "outputs": [],
      "source": [
        "a = [[2, 0, 0, 0, 0],\n",
        "     [2, 3, 0, 0, 0],\n",
        "     [3, 4, 4, 0, 0],\n",
        "     [4, 2, 3, 2, 0],\n",
        "     [2, 2, 2, 2, 2]]"
      ]
    },
    {
      "cell_type": "code",
      "execution_count": null,
      "id": "979e582a-4236-4fb0-aed7-a44bfe5e11be",
      "metadata": {
        "id": "979e582a-4236-4fb0-aed7-a44bfe5e11be"
      },
      "outputs": [],
      "source": [
        "b = [1, 2, 1, 2, 1]"
      ]
    },
    {
      "cell_type": "code",
      "source": [
        "from scipy.linalg import lu, solve\n",
        "a = np.array([[2, 0, 0, 0, 0],\n",
        "              [2, 3, 0, 0, 0],\n",
        "              [3, 4, 4, 0, 0],\n",
        "              [4, 2, 3, 2, 0],\n",
        "              [2, 2, 2, 2, 2]])\n",
        "\n",
        "b = np.array([1, 2, 1, 2, 1])\n",
        "\n",
        "# Analyze matrix 'a'\n",
        "is_symmetric = np.allclose(a, a.T)\n",
        "eigenvalues = np.linalg.eigvals(a)\n",
        "is_positive_definite = np.all(eigenvalues > 0)\n",
        "sparsity = 1.0 - (np.count_nonzero(a) / a.size)\n",
        "\n",
        "print(\"Is 'a' symmetric:\", is_symmetric)\n",
        "print(\"Is 'a' positive definite:\", is_positive_definite)\n",
        "print(\"Sparsity of 'a':\", sparsity)\n",
        "\n",
        "# Perform LU decomposition with partial pivoting\n",
        "P, L, U = lu(a)\n",
        "\n",
        "# Solve the system using LU factors\n",
        "x_lu = np.linalg.solve(U, np.linalg.solve(L, np.dot(P, b)))\n",
        "print(\"Solution using LU decomposition with partial pivoting:\", x_lu)\n",
        "\n",
        "# Solve the system using numpy/scipy solve()\n",
        "x_numpy_solve = solve(a, b)\n",
        "print(\"Solution using numpy/scipy solve():\", x_numpy_solve)\n",
        "\n",
        "# Check for correctness\n",
        "is_correct = np.allclose(x_lu, x_numpy_solve)\n",
        "print(\"Are the solutions correct:\", is_correct)"
      ],
      "metadata": {
        "colab": {
          "base_uri": "https://localhost:8080/"
        },
        "id": "ltQmsGndJNzu",
        "outputId": "6a0c6394-c1e3-4788-c63d-b9d2056ec3f3"
      },
      "id": "ltQmsGndJNzu",
      "execution_count": 15,
      "outputs": [
        {
          "output_type": "stream",
          "name": "stdout",
          "text": [
            "Is 'a' symmetric: False\n",
            "Is 'a' positive definite: True\n",
            "Sparsity of 'a': 0.4\n",
            "Solution using LU decomposition with partial pivoting: [ 0.5         0.33333333 -0.45833333  0.35416667 -0.22916667]\n",
            "Solution using numpy/scipy solve(): [ 0.5         0.33333333 -0.45833333  0.35416667 -0.22916667]\n",
            "Are the solutions correct: True\n"
          ]
        }
      ]
    }
  ],
  "metadata": {
    "kernelspec": {
      "display_name": "Python 3 (ipykernel)",
      "language": "python",
      "name": "python3"
    },
    "language_info": {
      "codemirror_mode": {
        "name": "ipython",
        "version": 3
      },
      "file_extension": ".py",
      "mimetype": "text/x-python",
      "name": "python",
      "nbconvert_exporter": "python",
      "pygments_lexer": "ipython3",
      "version": "3.11.4"
    },
    "colab": {
      "provenance": []
    }
  },
  "nbformat": 4,
  "nbformat_minor": 5
}